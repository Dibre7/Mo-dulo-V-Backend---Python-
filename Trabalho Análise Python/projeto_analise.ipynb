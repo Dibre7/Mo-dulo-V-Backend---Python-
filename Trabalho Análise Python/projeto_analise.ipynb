{
 "cells": [
  {
   "cell_type": "code",
   "execution_count": 1,
   "metadata": {},
   "outputs": [],
   "source": [
    "import pandas as pd"
   ]
  },
  {
   "cell_type": "markdown",
   "metadata": {},
   "source": [
    "Carregando arquivo CSV para explorar os dados"
   ]
  },
  {
   "cell_type": "code",
   "execution_count": 14,
   "metadata": {},
   "outputs": [],
   "source": [
    "# Carregar o arquivo CSV\n",
    "df = pd.read_csv('ProuniRelatorioDadosAbertos2020.csv', encoding='ISO-8859-1', on_bad_lines='skip')"
   ]
  },
  {
   "cell_type": "markdown",
   "metadata": {},
   "source": [
    "Exibição de primeiras linhas e colunas"
   ]
  },
  {
   "cell_type": "code",
   "execution_count": 12,
   "metadata": {},
   "outputs": [
    {
     "name": "stdout",
     "output_type": "stream",
     "text": [
      "  ANO_CONCESSAO_BOLSA;CODIGO_EMEC_IES_BOLSA;NOME_IES_BOLSA;MUNICIPIO;CAMPUS;TIPO_BOLSA;MODALIDADE_ENSINO_BOLSA;NOME_CURSO_BOLSA;NOME_TURNO_CURSO_BOLSA;CPF_BENEFICIARIO;SEXO_BENEFICIARIO;RACA_BENEFICIARIO;DATA_NASCIMENTO;BENEFICIARIO_DEFICIENTE_FISICO;REGIAO_BENEFICIARIO;UF_BENEFICIARIO;MUNICIPIO_BENEFICIARIO\n",
      "0  2020;322;UNIVERSIDADE PAULISTA;IPATINGA;IPATIN...                                                                                                                                                                                                                                                                 \n",
      "1  2020;163;UNIVERSIDADE ESTÁCIO DE SÁ;FORTALEZA;...                                                                                                                                                                                                                                                                 \n",
      "2  2020;17670;FACULDADE DE QUIXERAMOBIM;QUIXERAMO...                                                                                                                                                                                                                                                                 \n",
      "3  2020;203;UNIVERSIDADE SÃO JUDAS TADEU;SAO PAUL...                                                                                                                                                                                                                                                                 \n",
      "4  2020;203;UNIVERSIDADE SÃO JUDAS TADEU;SAO PAUL...                                                                                                                                                                                                                                                                 \n",
      "Index(['ANO_CONCESSAO_BOLSA;CODIGO_EMEC_IES_BOLSA;NOME_IES_BOLSA;MUNICIPIO;CAMPUS;TIPO_BOLSA;MODALIDADE_ENSINO_BOLSA;NOME_CURSO_BOLSA;NOME_TURNO_CURSO_BOLSA;CPF_BENEFICIARIO;SEXO_BENEFICIARIO;RACA_BENEFICIARIO;DATA_NASCIMENTO;BENEFICIARIO_DEFICIENTE_FISICO;REGIAO_BENEFICIARIO;UF_BENEFICIARIO;MUNICIPIO_BENEFICIARIO'], dtype='object')\n"
     ]
    }
   ],
   "source": [
    "# Exibir as primeiras linhas do DataFrame\n",
    "print(df.head())\n",
    "print(df.columns)"
   ]
  }
 ],
 "metadata": {
  "kernelspec": {
   "display_name": "Python 3",
   "language": "python",
   "name": "python3"
  },
  "language_info": {
   "codemirror_mode": {
    "name": "ipython",
    "version": 3
   },
   "file_extension": ".py",
   "mimetype": "text/x-python",
   "name": "python",
   "nbconvert_exporter": "python",
   "pygments_lexer": "ipython3",
   "version": "3.12.5"
  }
 },
 "nbformat": 4,
 "nbformat_minor": 2
}
